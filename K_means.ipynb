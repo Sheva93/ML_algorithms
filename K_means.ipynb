{
 "cells": [
  {
   "cell_type": "code",
   "execution_count": 66,
   "metadata": {},
   "outputs": [],
   "source": [
    "import numpy as np\n",
    "#from sklearn.datasets import load_digits\n",
    "\n",
    "from sklearn import datasets\n",
    "import math\n",
    "\n",
    "import matplotlib.pyplot as plt"
   ]
  },
  {
   "cell_type": "code",
   "execution_count": 67,
   "metadata": {},
   "outputs": [],
   "source": [
    "X, y = load_digits(return_X_y = True)"
   ]
  },
  {
   "cell_type": "code",
   "execution_count": 69,
   "metadata": {},
   "outputs": [],
   "source": [
    "n_samples, n_features = X.shape\n",
    "\n",
    "def euclidean_distance(x1, x2):\n",
    "    distance = 0\n",
    "    \n",
    "    for i in range(len(x1)):\n",
    "        distance += pow((x1[i] - x2[i]), 2)\n",
    "        \n",
    "    return math.sqrt(distance)\n",
    "\n",
    "def calculate_correlation_matrix(X, Y=None):\n",
    "    \"\"\" Calculate the correlation matrix for the dataset X \"\"\"\n",
    "    if Y is None:\n",
    "        Y = X\n",
    "    n_samples = np.shape(X)[0]\n",
    "    covariance = (1 / n_samples) * (X - X.mean(0)).T.dot(Y - Y.mean(0))\n",
    "    std_dev_X = np.expand_dims(calculate_std_dev(X), 1)\n",
    "    std_dev_y = np.expand_dims(calculate_std_dev(Y), 1)\n",
    "    correlation_matrix = np.divide(covariance, std_dev_X.dot(std_dev_y.T))\n",
    "\n",
    "    return np.array(correlation_matrix, dtype=float)\n",
    "\n",
    "def calculate_covariance_matrix(X, Y=None):\n",
    "    \"\"\" Calculate the covariance matrix for the dataset X \"\"\"\n",
    "    if Y is None:\n",
    "        Y = X\n",
    "    n_samples = np.shape(X)[0]\n",
    "    covariance_matrix = (1 / (n_samples-1)) * (X - X.mean(axis=0)).T.dot(Y - Y.mean(axis=0))\n",
    "\n",
    "    return np.array(covariance_matrix, dtype=float)"
   ]
  },
  {
   "cell_type": "code",
   "execution_count": 72,
   "metadata": {},
   "outputs": [],
   "source": [
    "cmap = plt.get_cmap('viridis')\n",
    "\n",
    "def _transform(X, dim):\n",
    "        covariance = calculate_covariance_matrix(X)\n",
    "        eigenvalues, eigenvectors = np.linalg.eig(covariance)\n",
    "        # Sort eigenvalues and eigenvector by largest eigenvalues\n",
    "        idx = eigenvalues.argsort()[::-1]\n",
    "        eigenvalues = eigenvalues[idx][:dim]\n",
    "        eigenvectors = np.atleast_1d(eigenvectors[:, idx])[:, :dim]\n",
    "        # Project the data onto principal components\n",
    "        X_transformed = X.dot(eigenvectors)\n",
    "\n",
    "        return X_transformed\n",
    "    \n",
    "def plot_in_2d(X, y=None, title=None, accuracy=None, legend_labels=None):\n",
    "    X_transformed = _transform(X, dim=2)\n",
    "    x1 = X_transformed[:, 0]\n",
    "    x2 = X_transformed[:, 1]\n",
    "    class_distr = []\n",
    "\n",
    "    y = np.array(y).astype(int)\n",
    "\n",
    "    colors = [cmap(i) for i in np.linspace(0, 1, len(np.unique(y)))]\n",
    "\n",
    "    # Plot the different class distributions\n",
    "    for i, l in enumerate(np.unique(y)):\n",
    "        _x1 = x1[y == l]\n",
    "        _x2 = x2[y == l]\n",
    "        _y = y[y == l]\n",
    "        class_distr.append(plt.scatter(_x1, _x2, color=colors[i]))\n",
    "\n",
    "    # Plot legend\n",
    "    if not legend_labels is None: \n",
    "        plt.legend(class_distr, legend_labels, loc=1)\n",
    "\n",
    "    # Plot title\n",
    "    if title:\n",
    "        if accuracy:\n",
    "            perc = 100 * accuracy\n",
    "            plt.suptitle(title)\n",
    "            plt.title(\"Accuracy: %.1f%%\" % perc, fontsize=10)\n",
    "        else:\n",
    "            plt.title(title)\n",
    "\n",
    "    # Axis labels\n",
    "    plt.xlabel('Principal Component 1')\n",
    "    plt.ylabel('Principal Component 2')\n",
    "\n",
    "    plt.show()\n"
   ]
  },
  {
   "cell_type": "code",
   "execution_count": 64,
   "metadata": {},
   "outputs": [],
   "source": [
    "class KMeans():\n",
    "    def __init__(self, k=2, max_iterations=200):\n",
    "        self.k = k\n",
    "        self.max_iterations = max_iterations\n",
    "        \n",
    "    def _init_random_centroids(self, X):\n",
    "        \n",
    "        n_samples, n_features = X.shape\n",
    "        centroids = np.zeros((self.k, n_features))\n",
    "        \n",
    "        for i in range(self.k):\n",
    "            centroid = X[np.random.choice(range(n_samples))]\n",
    "            centroids[i] = centroid\n",
    "        return centroids\n",
    "    \n",
    "    def _closest_centroid(self, sample, centroids):\n",
    "        \n",
    "        closest_i = 0\n",
    "        closest_dist = float('inf')\n",
    "        \n",
    "        for i, centroid in enumerate(centroids):\n",
    "            distance = euclidean_distance(sample, centroid)\n",
    "            \n",
    "            if distance < closest_dist:\n",
    "                closest_i=i\n",
    "                closest_dist = distance\n",
    "        \n",
    "        return closest_i\n",
    "    \n",
    "    def _create_clusters(self, centroids, X):\n",
    "        \n",
    "        n_samples = np.shape(X)[0]\n",
    "        clusters = [[] for _ in range(self.k)]\n",
    "        \n",
    "        for sample_i, sample in enumerate(X):\n",
    "            centroid_i =  self._closest_centroid(sample, centroids)\n",
    "            clusters[centroid_i].append(sample_i)\n",
    "        return clusters\n",
    "    \n",
    "    def _calculate_centroids(self, clusters, X):\n",
    "        \n",
    "        n_features = np.shape(X)[1]\n",
    "        centroids = np.zeros((self.k, n_features))\n",
    "        \n",
    "        for i, cluster in enumerate(clusters):\n",
    "            centroid = np.mean(X[cluster], axis=0)\n",
    "            centroids[i] = centroid\n",
    "            \n",
    "        return centroids\n",
    "    \n",
    "    def _get_cluster_labels(self, clusters, X):\n",
    "        \n",
    "        y_pred = np.zeros(np.shape(X)[0])\n",
    "        \n",
    "        for cluster_i, cluster in enumerate(clusters):\n",
    "            for sample_i in cluster:\n",
    "                y_pred[sample_i] = cluster_i\n",
    "        \n",
    "        return y_pred\n",
    "    \n",
    "    \n",
    "    def predict(self, X):\n",
    "        \n",
    "        centroids = self._init_random_centroids(X)\n",
    "        \n",
    "        for _ in range(self.max_iterations):\n",
    "            clusters = self._create_clusters(centroids, X)\n",
    "            \n",
    "            prev_centroids = centroids\n",
    "            \n",
    "            centroids = self._calculate_centroids(clusters, X)\n",
    "            \n",
    "            diff = centroids - prev_centroids\n",
    "            \n",
    "            if not diff.any():\n",
    "                break\n",
    "                \n",
    "        \n",
    "        return self._get_cluster_labels(clusters, X)\n",
    "    \n",
    "    \n",
    "        "
   ]
  },
  {
   "cell_type": "code",
   "execution_count": 77,
   "metadata": {},
   "outputs": [],
   "source": [
    "X,y = datasets.make_blobs()\n",
    "#X,y = datasets.load_digits(return_X_y=True)\n",
    "\n",
    "clf = KMeans(k=3)\n",
    "y_pred = clf.predict(X)"
   ]
  },
  {
   "cell_type": "code",
   "execution_count": 78,
   "metadata": {},
   "outputs": [
    {
     "data": {
      "image/png": "[encoded data removed]",
      "text/plain": [
       "<Figure size 432x288 with 1 Axes>"
      ]
     },
     "metadata": {
      "needs_background": "light"
     },
     "output_type": "display_data"
    },
    {
     "data": {
      "image/png": "[encoded data removed]",
      "text/plain": [
       "<Figure size 432x288 with 1 Axes>"
      ]
     },
     "metadata": {
      "needs_background": "light"
     },
     "output_type": "display_data"
    }
   ],
   "source": [
    "plot_in_2d(X, y_pred)\n",
    "plot_in_2d(X,y)"
   ]
  },
  {
   "cell_type": "code",
   "execution_count": null,
   "metadata": {},
   "outputs": [],
   "source": []
  }
 ],
 "metadata": {
  "kernelspec": {
   "display_name": "Python 3",
   "language": "python",
   "name": "python3"
  },
  "language_info": {
   "codemirror_mode": {
    "name": "ipython",
    "version": 3
   },
   "file_extension": ".py",
   "mimetype": "text/x-python",
   "name": "python",
   "nbconvert_exporter": "python",
   "pygments_lexer": "ipython3",
   "version": "3.6.8"
  }
 },
 "nbformat": 4,
 "nbformat_minor": 2
}
